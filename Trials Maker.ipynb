{
 "cells": [
  {
   "cell_type": "code",
   "execution_count": 1,
   "metadata": {
    "collapsed": true
   },
   "outputs": [],
   "source": [
    "import numpy as np\n",
    "import pandas as pd\n",
    "import math"
   ]
  },
  {
   "cell_type": "code",
   "execution_count": 2,
   "metadata": {
    "collapsed": false
   },
   "outputs": [],
   "source": [
    "level1 = ['Animals','Food','Clothing','Continents']\n",
    "level2 = ['Mammals','Reptiles','Fish','Birds','Fruit','Vegetables','Meat',\n",
    "          'Dairy','Tops','Bottoms','Shoes','Hats','Asia','Africa','Europe','America']\n",
    "level3 = ['Cats','Dogs','Hamsters','Fox','Lizard','Snake','Aligator','Crocodile',\n",
    "          'Goldfish','Shark','Catfish','Carp','Parrot','Owl','Penguin','Hummingbird',\n",
    "          'Orange','Pineapple','Strawberry','Apple','Potatoes','Onion','Celery','Garlic',\n",
    "          'Beef','Pork','Ham','Bacon','Butter','Milk','Cheese','Yoghurt','T-Shirt','Jacket',\n",
    "          'Vest','Coat','Skirt','Leggings','Tights','Jeans','Boots','Heels','Sneakers','Slippers',\n",
    "          'Cap','Sombrero','Beret','Tophat','Japan','Singapore','Malaysia','Thailand','Zimbabwe',\n",
    "          'Nigeria','Kenya','Congo','Spain','France','Germany','England','Canada','Mexico','Brazil','USA']\n",
    "trials = 5\n",
    "conditions = 12\n",
    "totalr =  conditions*trials"
   ]
  },
  {
   "cell_type": "code",
   "execution_count": 3,
   "metadata": {
    "collapsed": false
   },
   "outputs": [],
   "source": [
    "def get1(x):\n",
    "    q = []\n",
    "    for i in range(x):\n",
    "        i = math.floor(np.random.uniform(low=0,high=4))\n",
    "        q.append(level1[i])\n",
    "    return np.array(q)\n",
    "\n",
    "def get2(x):\n",
    "    q = []\n",
    "    for i in range(x):\n",
    "        i = math.floor(np.random.uniform(low=0,high=16))\n",
    "        q.append(level2[i])\n",
    "    return np.array(q)\n",
    "\n",
    "def get3(x):\n",
    "    q = []\n",
    "    for i in range(x):\n",
    "        i = math.floor(np.random.uniform(low=0,high=64))\n",
    "        q.append(level3[i])\n",
    "    return np.array(q)"
   ]
  },
  {
   "cell_type": "code",
   "execution_count": 4,
   "metadata": {
    "collapsed": true
   },
   "outputs": [],
   "source": [
    "lvls = {1:get1,2:get2,3:get3}\n",
    "def fill_data(idev,mt,md):\n",
    "    global devs \n",
    "    devs = np.concatenate((devs,np.tile(idev,trials)))\n",
    "    global mts \n",
    "    mts = np.concatenate((mts,np.tile(mt,trials)))\n",
    "    global mds \n",
    "    mds= np.concatenate((mds,np.tile(md,trials).astype(int)))\n",
    "    global tgs \n",
    "    tgs= np.concatenate((tgs,lvls[md](trials)))\n",
    "    "
   ]
  },
  {
   "cell_type": "code",
   "execution_count": 5,
   "metadata": {
    "collapsed": false
   },
   "outputs": [],
   "source": [
    "#1 \n",
    "#(IDT,M,1), (IDT,M,2), (IDT,M,3), (IDT,R,1), (IDT,R,2), (IDT,R,3), \n",
    "#(IDM,M,1), (IDM,M,2), (IDM,M,3), (IDM,R,1), (IDM,R,2), (IDM,R,3)\n",
    "data1 = pd.DataFrame(np.nan,index=np.arange(totalr),columns=['Input Device','Menu Type','Menu Depth','Target Item'])   \n",
    "devs = np.array([])\n",
    "mts = np.array([])\n",
    "mds = np.array([])\n",
    "tgs = np.array([])\n",
    "fill_data('Trackpad','Marking',1)\n",
    "fill_data('Trackpad','Marking',2)\n",
    "fill_data('Trackpad','Marking',3)\n",
    "fill_data('Trackpad','Radial',1)\n",
    "fill_data('Trackpad','Radial',2)\n",
    "fill_data('Trackpad','Radial',3)\n",
    "fill_data('Mouse','Marking',1)\n",
    "fill_data('Mouse','Marking',2)\n",
    "fill_data('Mouse','Marking',3)\n",
    "fill_data('Mouse','Radial',1)\n",
    "fill_data('Mouse','Radial',2)\n",
    "fill_data('Mouse','Radial',3)\n",
    "\n",
    "data1['Input Device'] = devs\n",
    "data1['Menu Type'] = mts\n",
    "data1['Menu Depth'] = mds\n",
    "data1['Target Item'] = tgs\n",
    "data1['Menu Depth']=data1['Menu Depth'].astype(int)\n",
    "data1.to_csv('1.csv',sep=',',index=False)"
   ]
  },
  {
   "cell_type": "code",
   "execution_count": 6,
   "metadata": {
    "collapsed": true
   },
   "outputs": [],
   "source": [
    "#2\n",
    "#(IDT,M,2), (IDT,M,3), (IDT,M,1), (IDT,R,2), (IDT,R,3), (IDT,R,1), \n",
    "#(IDM,M,2), (IDM,M,3), (IDM,M,1), (IDM,R,2), (IDM,R,3), (IDM,R,1)\n",
    "data1 = pd.DataFrame(np.nan,index=np.arange(totalr),columns=['Input Device','Menu Type','Menu Depth','Target Item'])   \n",
    "devs = np.array([])\n",
    "mts = np.array([])\n",
    "mds = np.array([])\n",
    "tgs = np.array([])\n",
    "fill_data('Trackpad','Marking',2)\n",
    "fill_data('Trackpad','Marking',3)\n",
    "fill_data('Trackpad','Marking',1)\n",
    "fill_data('Trackpad','Radial',2)\n",
    "fill_data('Trackpad','Radial',3)\n",
    "fill_data('Trackpad','Radial',1)\n",
    "fill_data('Mouse','Marking',2)\n",
    "fill_data('Mouse','Marking',3)\n",
    "fill_data('Mouse','Marking',1)\n",
    "fill_data('Mouse','Radial',2)\n",
    "fill_data('Mouse','Radial',3)\n",
    "fill_data('Mouse','Radial',1)\n",
    "\n",
    "data1['Input Device'] = devs\n",
    "data1['Menu Type'] = mts\n",
    "data1['Menu Depth'] = mds\n",
    "data1['Target Item'] = tgs\n",
    "data1['Menu Depth']=data1['Menu Depth'].astype(int)\n",
    "data1.to_csv('2.csv',sep=',',index=False)"
   ]
  },
  {
   "cell_type": "code",
   "execution_count": 7,
   "metadata": {
    "collapsed": true
   },
   "outputs": [],
   "source": [
    "#3\n",
    "#(IDT,M,3), (IDT,M,1), (IDT,M,2), (IDT,R,3), (IDT,R,1), (IDT,R,2), \n",
    "#(IDM,M,3), (IDM,M,1), (IDM,M,2), (IDM,R,3), (IDM,R,1), (IDM,R,2)\n",
    "data1 = pd.DataFrame(np.nan,index=np.arange(totalr),columns=['Input Device','Menu Type','Menu Depth','Target Item'])   \n",
    "devs = np.array([])\n",
    "mts = np.array([])\n",
    "mds = np.array([])\n",
    "tgs = np.array([])\n",
    "fill_data('Trackpad','Marking',3)\n",
    "fill_data('Trackpad','Marking',1)\n",
    "fill_data('Trackpad','Marking',2)\n",
    "fill_data('Trackpad','Radial',3)\n",
    "fill_data('Trackpad','Radial',1)\n",
    "fill_data('Trackpad','Radial',2)\n",
    "fill_data('Mouse','Marking',3)\n",
    "fill_data('Mouse','Marking',1)\n",
    "fill_data('Mouse','Marking',2)\n",
    "fill_data('Mouse','Radial',3)\n",
    "fill_data('Mouse','Radial',1)\n",
    "fill_data('Mouse','Radial',2)\n",
    "\n",
    "data1['Input Device'] = devs\n",
    "data1['Menu Type'] = mts\n",
    "data1['Menu Depth'] = mds\n",
    "data1['Target Item'] = tgs\n",
    "data1['Menu Depth']=data1['Menu Depth'].astype(int)\n",
    "data1.to_csv('3.csv',sep=',',index=False)"
   ]
  },
  {
   "cell_type": "code",
   "execution_count": 8,
   "metadata": {
    "collapsed": true
   },
   "outputs": [],
   "source": [
    "#4\n",
    "#(IDT,R,1), (IDT,R,2), (IDT,R,3), (IDT,M,1), (IDT,M,2), (IDT,M,3), \n",
    "#(IDM,R,1), (IDM,R,2), (IDM,R,3), (IDM,M,1), (IDM,M,2), (IDM,M,3)\n",
    "\n",
    "data1 = pd.DataFrame(np.nan,index=np.arange(totalr),columns=['Input Device','Menu Type','Menu Depth','Target Item'])   \n",
    "devs = np.array([])\n",
    "mts = np.array([])\n",
    "mds = np.array([])\n",
    "tgs = np.array([])\n",
    "fill_data('Trackpad','Radial',1)\n",
    "fill_data('Trackpad','Radial',2)\n",
    "fill_data('Trackpad','Radial',3)\n",
    "fill_data('Trackpad','Marking',1)\n",
    "fill_data('Trackpad','Marking',2)\n",
    "fill_data('Trackpad','Marking',3)\n",
    "fill_data('Mouse','Radial',1)\n",
    "fill_data('Mouse','Radial',2)\n",
    "fill_data('Mouse','Radial',3)\n",
    "fill_data('Mouse','Marking',1)\n",
    "fill_data('Mouse','Marking',2)\n",
    "fill_data('Mouse','Marking',3)\n",
    "\n",
    "data1['Input Device'] = devs\n",
    "data1['Menu Type'] = mts\n",
    "data1['Menu Depth'] = mds\n",
    "data1['Target Item'] = tgs\n",
    "data1['Menu Depth']=data1['Menu Depth'].astype(int)\n",
    "data1.to_csv('4.csv',sep=',',index=False)"
   ]
  },
  {
   "cell_type": "code",
   "execution_count": 9,
   "metadata": {
    "collapsed": true
   },
   "outputs": [],
   "source": [
    "#5\n",
    "#(IDT,R,2), (IDT,R,3), (IDT,R,1), (IDT,M,2), (IDT,M,3), (IDT,M,1), \n",
    "#(IDM,R,2), (IDM,R,3), (IDM,R,1), (IDM,M,2), (IDM,M,3), (IDM,M,1)\n",
    "data1 = pd.DataFrame(np.nan,index=np.arange(totalr),columns=['Input Device','Menu Type','Menu Depth','Target Item'])   \n",
    "devs = np.array([])\n",
    "mts = np.array([])\n",
    "mds = np.array([])\n",
    "tgs = np.array([])\n",
    "fill_data('Trackpad','Radial',2)\n",
    "fill_data('Trackpad','Radial',3)\n",
    "fill_data('Trackpad','Radial',1)\n",
    "fill_data('Trackpad','Marking',2)\n",
    "fill_data('Trackpad','Marking',3)\n",
    "fill_data('Trackpad','Marking',1)\n",
    "fill_data('Mouse','Radial',2)\n",
    "fill_data('Mouse','Radial',3)\n",
    "fill_data('Mouse','Radial',1)\n",
    "fill_data('Mouse','Marking',2)\n",
    "fill_data('Mouse','Marking',3)\n",
    "fill_data('Mouse','Marking',1)\n",
    "\n",
    "data1['Input Device'] = devs\n",
    "data1['Menu Type'] = mts\n",
    "data1['Menu Depth'] = mds\n",
    "data1['Target Item'] = tgs\n",
    "data1['Menu Depth']=data1['Menu Depth'].astype(int)\n",
    "data1.to_csv('5.csv',sep=',',index=False)"
   ]
  },
  {
   "cell_type": "code",
   "execution_count": 10,
   "metadata": {
    "collapsed": true
   },
   "outputs": [],
   "source": [
    "#6\n",
    "#(IDT,R,3), (IDT,R,1), (IDT,R,2), (IDT,M,3), (IDT,M,1), (IDT,M,2), \n",
    "#(IDM,R,3), (IDM,R,1), (IDM,R,2), (IDM,M,3), (IDM,M,1), (IDM,M,2)\n",
    "\n",
    "data1 = pd.DataFrame(np.nan,index=np.arange(totalr),columns=['Input Device','Menu Type','Menu Depth','Target Item'])   \n",
    "devs = np.array([])\n",
    "mts = np.array([])\n",
    "mds = np.array([])\n",
    "tgs = np.array([])\n",
    "fill_data('Trackpad','Radial',3)\n",
    "fill_data('Trackpad','Radial',1)\n",
    "fill_data('Trackpad','Radial',2)\n",
    "fill_data('Trackpad','Marking',3)\n",
    "fill_data('Trackpad','Marking',1)\n",
    "fill_data('Trackpad','Marking',2)\n",
    "fill_data('Mouse','Radial',3)\n",
    "fill_data('Mouse','Radial',1)\n",
    "fill_data('Mouse','Radial',2)\n",
    "fill_data('Mouse','Marking',3)\n",
    "fill_data('Mouse','Marking',1)\n",
    "fill_data('Mouse','Marking',2)\n",
    "\n",
    "data1['Input Device'] = devs\n",
    "data1['Menu Type'] = mts\n",
    "data1['Menu Depth'] = mds\n",
    "data1['Target Item'] = tgs\n",
    "data1['Menu Depth']=data1['Menu Depth'].astype(int)\n",
    "data1.to_csv('6.csv',sep=',',index=False)"
   ]
  },
  {
   "cell_type": "code",
   "execution_count": 11,
   "metadata": {
    "collapsed": true
   },
   "outputs": [],
   "source": [
    "#7\n",
    "#(IDM,M,1), (IDM,M,2), (IDM,M,3), (IDM,R,1), (IDM,R,2), (IDM,R,3), \n",
    "#(IDT,M,1), (IDT,M,2), (IDT,M,3), (IDT,R,1), (IDT,R,2), (IDT,R,3)\n",
    "\n",
    "data1 = pd.DataFrame(np.nan,index=np.arange(totalr),columns=['Input Device','Menu Type','Menu Depth','Target Item'])   \n",
    "devs = np.array([])\n",
    "mts = np.array([])\n",
    "mds = np.array([])\n",
    "tgs = np.array([])\n",
    "\n",
    "fill_data('Mouse','Marking',1)\n",
    "fill_data('Mouse','Marking',2)\n",
    "fill_data('Mouse','Marking',3)\n",
    "fill_data('Mouse','Radial',1)\n",
    "fill_data('Mouse','Radial',2)\n",
    "fill_data('Mouse','Radial',3)\n",
    "fill_data('Trackpad','Marking',1)\n",
    "fill_data('Trackpad','Marking',2)\n",
    "fill_data('Trackpad','Marking',3)\n",
    "fill_data('Trackpad','Radial',1)\n",
    "fill_data('Trackpad','Radial',2)\n",
    "fill_data('Trackpad','Radial',3)\n",
    "\n",
    "\n",
    "data1['Input Device'] = devs\n",
    "data1['Menu Type'] = mts\n",
    "data1['Menu Depth'] = mds\n",
    "data1['Target Item'] = tgs\n",
    "data1['Menu Depth']=data1['Menu Depth'].astype(int)\n",
    "data1.to_csv('7.csv',sep=',',index=False)"
   ]
  },
  {
   "cell_type": "code",
   "execution_count": 12,
   "metadata": {
    "collapsed": true
   },
   "outputs": [],
   "source": [
    "#8\n",
    "#(IDM,M,2), (IDM,M,3), (IDM,M,1), (IDM,R,2), (IDM,R,3), (IDM,R,1), \n",
    "#(IDT,M,2), (IDT,M,3), (IDT,M,1), (IDT,R,2), (IDT,R,3), (IDT,R,1)\n",
    "\n",
    "data1 = pd.DataFrame(np.nan,index=np.arange(totalr),columns=['Input Device','Menu Type','Menu Depth','Target Item'])   \n",
    "devs = np.array([])\n",
    "mts = np.array([])\n",
    "mds = np.array([])\n",
    "tgs = np.array([])\n",
    "fill_data('Mouse','Marking',2)\n",
    "fill_data('Mouse','Marking',3)\n",
    "fill_data('Mouse','Marking',1)\n",
    "fill_data('Mouse','Radial',2)\n",
    "fill_data('Mouse','Radial',3)\n",
    "fill_data('Mouse','Radial',1)\n",
    "fill_data('Trackpad','Marking',2)\n",
    "fill_data('Trackpad','Marking',3)\n",
    "fill_data('Trackpad','Marking',1)\n",
    "fill_data('Trackpad','Radial',2)\n",
    "fill_data('Trackpad','Radial',3)\n",
    "fill_data('Trackpad','Radial',1)\n",
    "\n",
    "data1['Input Device'] = devs\n",
    "data1['Menu Type'] = mts\n",
    "data1['Menu Depth'] = mds\n",
    "data1['Target Item'] = tgs\n",
    "data1['Menu Depth']=data1['Menu Depth'].astype(int)\n",
    "data1.to_csv('8.csv',sep=',',index=False)"
   ]
  },
  {
   "cell_type": "code",
   "execution_count": 13,
   "metadata": {
    "collapsed": true
   },
   "outputs": [],
   "source": [
    "#9\n",
    "#(IDM,M,3), (IDM,M,1), (IDM,M,2), (IDM,R,3), (IDM,R,1), (IDM,R,2), \n",
    "#(IDT,M,3), (IDT,M,1), (IDT,M,2), (IDT,R,3), (IDT,R,1), (IDT,R,2)\n",
    "\n",
    "data1 = pd.DataFrame(np.nan,index=np.arange(totalr),columns=['Input Device','Menu Type','Menu Depth','Target Item'])   \n",
    "devs = np.array([])\n",
    "mts = np.array([])\n",
    "mds = np.array([])\n",
    "tgs = np.array([])\n",
    "\n",
    "fill_data('Mouse','Marking',3)\n",
    "fill_data('Mouse','Marking',1)\n",
    "fill_data('Mouse','Marking',2)\n",
    "fill_data('Mouse','Radial',3)\n",
    "fill_data('Mouse','Radial',1)\n",
    "fill_data('Mouse','Radial',2)\n",
    "fill_data('Trackpad','Marking',3)\n",
    "fill_data('Trackpad','Marking',1)\n",
    "fill_data('Trackpad','Marking',2)\n",
    "fill_data('Trackpad','Radial',3)\n",
    "fill_data('Trackpad','Radial',1)\n",
    "fill_data('Trackpad','Radial',2)\n",
    "\n",
    "data1['Input Device'] = devs\n",
    "data1['Menu Type'] = mts\n",
    "data1['Menu Depth'] = mds\n",
    "data1['Target Item'] = tgs\n",
    "data1['Menu Depth']=data1['Menu Depth'].astype(int)\n",
    "data1.to_csv('9.csv',sep=',',index=False)"
   ]
  },
  {
   "cell_type": "code",
   "execution_count": 14,
   "metadata": {
    "collapsed": true
   },
   "outputs": [],
   "source": [
    "#10\n",
    "#(IDM,R,1), (IDM,R,2), (IDM,R,3), (IDM,M,1), (IDM,M,2), (IDM,M,3), \n",
    "#(IDT,R,1), (IDT,R,2), (IDT,R,3), (IDT,M,1), (IDT,M,2), (IDT,M,3),\n",
    "\n",
    "data1 = pd.DataFrame(np.nan,index=np.arange(totalr),columns=['Input Device','Menu Type','Menu Depth','Target Item'])   \n",
    "devs = np.array([])\n",
    "mts = np.array([])\n",
    "mds = np.array([])\n",
    "tgs = np.array([])\n",
    "fill_data('Mouse','Radial',1)\n",
    "fill_data('Mouse','Radial',2)\n",
    "fill_data('Mouse','Radial',3)\n",
    "fill_data('Mouse','Marking',1)\n",
    "fill_data('Mouse','Marking',2)\n",
    "fill_data('Mouse','Marking',3)\n",
    "fill_data('Trackpad','Radial',1)\n",
    "fill_data('Trackpad','Radial',2)\n",
    "fill_data('Trackpad','Radial',3)\n",
    "fill_data('Trackpad','Marking',1)\n",
    "fill_data('Trackpad','Marking',2)\n",
    "fill_data('Trackpad','Marking',3)\n",
    "\n",
    "data1['Input Device'] = devs\n",
    "data1['Menu Type'] = mts\n",
    "data1['Menu Depth'] = mds\n",
    "data1['Target Item'] = tgs\n",
    "data1['Menu Depth']=data1['Menu Depth'].astype(int)\n",
    "data1.to_csv('10.csv',sep=',',index=False)"
   ]
  },
  {
   "cell_type": "code",
   "execution_count": 15,
   "metadata": {
    "collapsed": true
   },
   "outputs": [],
   "source": [
    "#11\n",
    "#(IDM,R,2), (IDM,R,3), (IDM,R,1), (IDM,M,2), (IDM,M,3), (IDM,M,1), \n",
    "#(IDT,R,2), (IDT,R,3), (IDT,R,1), (IDT,M,2), (IDT,M,3), (IDT,M,1),\n",
    "\n",
    "data1 = pd.DataFrame(np.nan,index=np.arange(totalr),columns=['Input Device','Menu Type','Menu Depth','Target Item'])   \n",
    "devs = np.array([])\n",
    "mts = np.array([])\n",
    "mds = np.array([])\n",
    "tgs = np.array([])\n",
    "\n",
    "fill_data('Mouse','Radial',2)\n",
    "fill_data('Mouse','Radial',3)\n",
    "fill_data('Mouse','Radial',1)\n",
    "fill_data('Mouse','Marking',2)\n",
    "fill_data('Mouse','Marking',3)\n",
    "fill_data('Mouse','Marking',1)\n",
    "fill_data('Trackpad','Radial',2)\n",
    "fill_data('Trackpad','Radial',3)\n",
    "fill_data('Trackpad','Radial',1)\n",
    "fill_data('Trackpad','Marking',2)\n",
    "fill_data('Trackpad','Marking',3)\n",
    "fill_data('Trackpad','Marking',1)\n",
    "\n",
    "data1['Input Device'] = devs\n",
    "data1['Menu Type'] = mts\n",
    "data1['Menu Depth'] = mds\n",
    "data1['Target Item'] = tgs\n",
    "data1['Menu Depth']=data1['Menu Depth'].astype(int)\n",
    "data1.to_csv('11.csv',sep=',',index=False)"
   ]
  },
  {
   "cell_type": "code",
   "execution_count": 16,
   "metadata": {
    "collapsed": true
   },
   "outputs": [],
   "source": [
    "#12\n",
    "#(IDM,R,3), (IDM,R,1), (IDM,R,2), (IDM,M,3), (IDM,M,1), (IDM,M,2),\n",
    "#(IDT,R,3), (IDT,R,1), (IDT,R,2), (IDT,M,3), (IDT,M,1), (IDT,M,2)\n",
    "\n",
    "data1 = pd.DataFrame(np.nan,index=np.arange(totalr),columns=['Input Device','Menu Type','Menu Depth','Target Item'])   \n",
    "devs = np.array([])\n",
    "mts = np.array([])\n",
    "mds = np.array([])\n",
    "tgs = np.array([])\n",
    "fill_data('Mouse','Radial',3)\n",
    "fill_data('Mouse','Radial',1)\n",
    "fill_data('Mouse','Radial',2)\n",
    "fill_data('Mouse','Marking',3)\n",
    "fill_data('Mouse','Marking',1)\n",
    "fill_data('Mouse','Marking',2)\n",
    "fill_data('Trackpad','Radial',3)\n",
    "fill_data('Trackpad','Radial',1)\n",
    "fill_data('Trackpad','Radial',2)\n",
    "fill_data('Trackpad','Marking',3)\n",
    "fill_data('Trackpad','Marking',1)\n",
    "fill_data('Trackpad','Marking',2)\n",
    "\n",
    "data1['Input Device'] = devs\n",
    "data1['Menu Type'] = mts\n",
    "data1['Menu Depth'] = mds\n",
    "data1['Target Item'] = tgs\n",
    "data1['Menu Depth']=data1['Menu Depth'].astype(int)\n",
    "data1.to_csv('12.csv',sep=',',index=False)"
   ]
  },
  {
   "cell_type": "code",
   "execution_count": null,
   "metadata": {
    "collapsed": true
   },
   "outputs": [],
   "source": []
  },
  {
   "cell_type": "code",
   "execution_count": null,
   "metadata": {
    "collapsed": true
   },
   "outputs": [],
   "source": []
  },
  {
   "cell_type": "code",
   "execution_count": null,
   "metadata": {
    "collapsed": true
   },
   "outputs": [],
   "source": []
  },
  {
   "cell_type": "code",
   "execution_count": null,
   "metadata": {
    "collapsed": true
   },
   "outputs": [],
   "source": []
  }
 ],
 "metadata": {
  "kernelspec": {
   "display_name": "Python 3",
   "language": "python",
   "name": "python3"
  },
  "language_info": {
   "codemirror_mode": {
    "name": "ipython",
    "version": 3
   },
   "file_extension": ".py",
   "mimetype": "text/x-python",
   "name": "python",
   "nbconvert_exporter": "python",
   "pygments_lexer": "ipython3",
   "version": "3.5.2"
  }
 },
 "nbformat": 4,
 "nbformat_minor": 0
}
